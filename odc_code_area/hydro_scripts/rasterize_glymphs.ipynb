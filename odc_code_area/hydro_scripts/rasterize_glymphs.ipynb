{
 "cells": [
  {
   "cell_type": "code",
   "execution_count": 1,
   "metadata": {},
   "outputs": [],
   "source": [
    "from geocube.api.core import make_geocube\n",
    "from pathlib import Path\n",
    "import geopandas as gpd\n",
    "import dask_geopandas"
   ]
  },
  {
   "cell_type": "code",
   "execution_count": 2,
   "metadata": {},
   "outputs": [
    {
     "data": {
      "text/plain": [
       "Index(['OBJECTID_1', 'IDENTITY_', 'logK_Ice_x', 'logK_Ferr_', 'Porosity_x',\n",
       "       'K_stdev_x1', 'OBJECTID', 'Descriptio', 'XX', 'YY', 'ZZ', 'AA', 'DD',\n",
       "       'Shape_Leng', 'GUM_K', 'Prmfrst', 'Shape_Le_1', 'Shape_Area',\n",
       "       'Transmissi', 'COUNT', 'AREA_1', 'MEAN', 'STD', 'geometry'],\n",
       "      dtype='object')"
      ]
     },
     "execution_count": 2,
     "metadata": {},
     "output_type": "execute_result"
    }
   ],
   "source": [
    "ddf = dask_geopandas.read_file(Path('/home/geofelpave/Documents/6_Test_Area/data/glymphs/GLHYMPS/GLHYMPS.shp'), npartitions=4)\n",
    "# ddf.to_crs(4326)\n",
    "ddf.columns"
   ]
  },
  {
   "cell_type": "code",
   "execution_count": 3,
   "metadata": {},
   "outputs": [
    {
     "data": {
      "text/html": [
       "<div><strong>Dask-GeoPandas GeoDataFrame Structure:</strong></div>\n",
       "<div>\n",
       "<style scoped>\n",
       "    .dataframe tbody tr th:only-of-type {\n",
       "        vertical-align: middle;\n",
       "    }\n",
       "\n",
       "    .dataframe tbody tr th {\n",
       "        vertical-align: top;\n",
       "    }\n",
       "\n",
       "    .dataframe thead th {\n",
       "        text-align: right;\n",
       "    }\n",
       "</style>\n",
       "<table border=\"1\" class=\"dataframe\">\n",
       "  <thead>\n",
       "    <tr style=\"text-align: right;\">\n",
       "      <th></th>\n",
       "      <th>logK_Ferr_</th>\n",
       "      <th>geometry</th>\n",
       "      <th>k</th>\n",
       "      <th>Ksat</th>\n",
       "    </tr>\n",
       "    <tr>\n",
       "      <th>npartitions=4</th>\n",
       "      <th></th>\n",
       "      <th></th>\n",
       "      <th></th>\n",
       "      <th></th>\n",
       "    </tr>\n",
       "  </thead>\n",
       "  <tbody>\n",
       "    <tr>\n",
       "      <th>0</th>\n",
       "      <td>int32</td>\n",
       "      <td>geometry</td>\n",
       "      <td>float64</td>\n",
       "      <td>float64</td>\n",
       "    </tr>\n",
       "    <tr>\n",
       "      <th>450811</th>\n",
       "      <td>...</td>\n",
       "      <td>...</td>\n",
       "      <td>...</td>\n",
       "      <td>...</td>\n",
       "    </tr>\n",
       "    <tr>\n",
       "      <th>901622</th>\n",
       "      <td>...</td>\n",
       "      <td>...</td>\n",
       "      <td>...</td>\n",
       "      <td>...</td>\n",
       "    </tr>\n",
       "    <tr>\n",
       "      <th>1352433</th>\n",
       "      <td>...</td>\n",
       "      <td>...</td>\n",
       "      <td>...</td>\n",
       "      <td>...</td>\n",
       "    </tr>\n",
       "    <tr>\n",
       "      <th>1803241</th>\n",
       "      <td>...</td>\n",
       "      <td>...</td>\n",
       "      <td>...</td>\n",
       "      <td>...</td>\n",
       "    </tr>\n",
       "  </tbody>\n",
       "</table>\n",
       "</div>\n",
       "<div>Dask Name: assign, 9 graph layers</div>"
      ],
      "text/plain": [
       "Dask GeoDataFrame Structure:\n",
       "              logK_Ferr_  geometry        k     Ksat\n",
       "npartitions=4                                       \n",
       "0                  int32  geometry  float64  float64\n",
       "450811               ...       ...      ...      ...\n",
       "901622               ...       ...      ...      ...\n",
       "1352433              ...       ...      ...      ...\n",
       "1803241              ...       ...      ...      ...\n",
       "Dask Name: assign, 9 graph layers"
      ]
     },
     "execution_count": 3,
     "metadata": {},
     "output_type": "execute_result"
    }
   ],
   "source": [
    "test = ddf[['logK_Ferr_', 'geometry']].copy()\n",
    "test['k'] = 10**(test['logK_Ferr_'] / 100)\n",
    "test['Ksat'] = test['k'] * 100000000000\n",
    "test"
   ]
  },
  {
   "cell_type": "code",
   "execution_count": 4,
   "metadata": {},
   "outputs": [],
   "source": [
    "df_glhymps = test.compute()"
   ]
  },
  {
   "cell_type": "code",
   "execution_count": 5,
   "metadata": {},
   "outputs": [
    {
     "ename": "",
     "evalue": "",
     "output_type": "error",
     "traceback": [
      "\u001b[1;31mCannot execute code, session has been disposed. Please try restarting the Kernel."
     ]
    },
    {
     "ename": "",
     "evalue": "",
     "output_type": "error",
     "traceback": [
      "\u001b[1;31mThe Kernel crashed while executing code in the the current cell or a previous cell. Please review the code in the cell(s) to identify a possible cause of the failure. Click <a href='https://aka.ms/vscodeJupyterKernelCrash'>here</a> for more info. View Jupyter <a href='command:jupyter.viewOutput'>log</a> for further details."
     ]
    }
   ],
   "source": [
    "df_glhymps_new = df_glhymps[['Ksat', 'geometry']].copy()\n",
    "# save to shapefile\n",
    "df_glhymps_new.to_file(Path('/home/geofelpave/Documents/6_Test_Area/data/glymphs/GLHYMPS/GLHYMPS_KSat.shp')) "
   ]
  },
  {
   "cell_type": "code",
   "execution_count": 11,
   "metadata": {},
   "outputs": [],
   "source": [
    "df_grid = gpd.read_file(Path('/home/geofelpave/Documents/1_PhD_SharePoint/LFPV - PhD - Documents/00_PhD_main/006_GitHub/0065_odc_hydro/shetran_data/active_data/final_mask.shp'))\n",
    "df_grid_new = df_grid.to_crs(df_glhymps.crs)"
   ]
  },
  {
   "cell_type": "code",
   "execution_count": 16,
   "metadata": {},
   "outputs": [
    {
     "data": {
      "text/html": [
       "<div>\n",
       "<style scoped>\n",
       "    .dataframe tbody tr th:only-of-type {\n",
       "        vertical-align: middle;\n",
       "    }\n",
       "\n",
       "    .dataframe tbody tr th {\n",
       "        vertical-align: top;\n",
       "    }\n",
       "\n",
       "    .dataframe thead th {\n",
       "        text-align: right;\n",
       "    }\n",
       "</style>\n",
       "<table border=\"1\" class=\"dataframe\">\n",
       "  <thead>\n",
       "    <tr style=\"text-align: right;\">\n",
       "      <th></th>\n",
       "      <th>intersect</th>\n",
       "      <th>SHETRAN_ID</th>\n",
       "      <th>geometry</th>\n",
       "    </tr>\n",
       "  </thead>\n",
       "  <tbody>\n",
       "    <tr>\n",
       "      <th>0</th>\n",
       "      <td>0</td>\n",
       "      <td>-9999</td>\n",
       "      <td>POLYGON ((-300472.404 5228354.090, -291692.954...</td>\n",
       "    </tr>\n",
       "    <tr>\n",
       "      <th>1</th>\n",
       "      <td>1</td>\n",
       "      <td>0</td>\n",
       "      <td>POLYGON ((-300384.383 5225503.256, -291614.841...</td>\n",
       "    </tr>\n",
       "    <tr>\n",
       "      <th>2</th>\n",
       "      <td>1</td>\n",
       "      <td>0</td>\n",
       "      <td>POLYGON ((-300296.590 5222649.187, -291536.953...</td>\n",
       "    </tr>\n",
       "    <tr>\n",
       "      <th>3</th>\n",
       "      <td>1</td>\n",
       "      <td>0</td>\n",
       "      <td>POLYGON ((-300209.039 5219791.894, -291459.288...</td>\n",
       "    </tr>\n",
       "    <tr>\n",
       "      <th>4</th>\n",
       "      <td>1</td>\n",
       "      <td>0</td>\n",
       "      <td>POLYGON ((-300121.723 5216931.372, -291381.836...</td>\n",
       "    </tr>\n",
       "    <tr>\n",
       "      <th>...</th>\n",
       "      <td>...</td>\n",
       "      <td>...</td>\n",
       "      <td>...</td>\n",
       "    </tr>\n",
       "    <tr>\n",
       "      <th>145</th>\n",
       "      <td>1</td>\n",
       "      <td>0</td>\n",
       "      <td>POLYGON ((-221464.449 5199827.042, -212782.076...</td>\n",
       "    </tr>\n",
       "    <tr>\n",
       "      <th>146</th>\n",
       "      <td>0</td>\n",
       "      <td>-9999</td>\n",
       "      <td>POLYGON ((-221465.687 5196943.951, -212792.988...</td>\n",
       "    </tr>\n",
       "    <tr>\n",
       "      <th>147</th>\n",
       "      <td>0</td>\n",
       "      <td>-9999</td>\n",
       "      <td>POLYGON ((-221466.931 5194057.647, -212803.864...</td>\n",
       "    </tr>\n",
       "    <tr>\n",
       "      <th>148</th>\n",
       "      <td>0</td>\n",
       "      <td>-9999</td>\n",
       "      <td>POLYGON ((-221468.265 5191168.115, -212814.785...</td>\n",
       "    </tr>\n",
       "    <tr>\n",
       "      <th>149</th>\n",
       "      <td>0</td>\n",
       "      <td>-9999</td>\n",
       "      <td>POLYGON ((-221469.510 5188275.388, -212825.636...</td>\n",
       "    </tr>\n",
       "  </tbody>\n",
       "</table>\n",
       "<p>150 rows × 3 columns</p>\n",
       "</div>"
      ],
      "text/plain": [
       "     intersect  SHETRAN_ID                                           geometry\n",
       "0            0       -9999  POLYGON ((-300472.404 5228354.090, -291692.954...\n",
       "1            1           0  POLYGON ((-300384.383 5225503.256, -291614.841...\n",
       "2            1           0  POLYGON ((-300296.590 5222649.187, -291536.953...\n",
       "3            1           0  POLYGON ((-300209.039 5219791.894, -291459.288...\n",
       "4            1           0  POLYGON ((-300121.723 5216931.372, -291381.836...\n",
       "..         ...         ...                                                ...\n",
       "145          1           0  POLYGON ((-221464.449 5199827.042, -212782.076...\n",
       "146          0       -9999  POLYGON ((-221465.687 5196943.951, -212792.988...\n",
       "147          0       -9999  POLYGON ((-221466.931 5194057.647, -212803.864...\n",
       "148          0       -9999  POLYGON ((-221468.265 5191168.115, -212814.785...\n",
       "149          0       -9999  POLYGON ((-221469.510 5188275.388, -212825.636...\n",
       "\n",
       "[150 rows x 3 columns]"
      ]
     },
     "execution_count": 16,
     "metadata": {},
     "output_type": "execute_result"
    },
    {
     "ename": "",
     "evalue": "",
     "output_type": "error",
     "traceback": [
      "\u001b[1;31mThe Kernel crashed while executing code in the the current cell or a previous cell. Please review the code in the cell(s) to identify a possible cause of the failure. Click <a href='https://aka.ms/vscodeJupyterKernelCrash'>here</a> for more info. View Jupyter <a href='command:jupyter.viewOutput'>log</a> for further details."
     ]
    }
   ],
   "source": [
    "df_grid_new"
   ]
  },
  {
   "cell_type": "code",
   "execution_count": 5,
   "metadata": {},
   "outputs": [
    {
     "data": {
      "text/plain": [
       "<Derived Projected CRS: PROJCS[\"Cylindrical_Equal_Area\",GEOGCS[\"WGS 84\",DA ...>\n",
       "Name: Cylindrical_Equal_Area\n",
       "Axis Info [cartesian]:\n",
       "- [east]: Easting (metre)\n",
       "- [north]: Northing (metre)\n",
       "Area of Use:\n",
       "- undefined\n",
       "Coordinate Operation:\n",
       "- name: unnamed\n",
       "- method: Lambert Cylindrical Equal Area\n",
       "Datum: World Geodetic System 1984\n",
       "- Ellipsoid: WGS 84\n",
       "- Prime Meridian: Greenwich"
      ]
     },
     "execution_count": 5,
     "metadata": {},
     "output_type": "execute_result"
    }
   ],
   "source": [
    "df_glhymps.crs"
   ]
  },
  {
   "cell_type": "code",
   "execution_count": 12,
   "metadata": {},
   "outputs": [
    {
     "data": {
      "text/plain": [
       "<Derived Projected CRS: PROJCS[\"Cylindrical_Equal_Area\",GEOGCS[\"WGS 84\",DA ...>\n",
       "Name: Cylindrical_Equal_Area\n",
       "Axis Info [cartesian]:\n",
       "- [east]: Easting (metre)\n",
       "- [north]: Northing (metre)\n",
       "Area of Use:\n",
       "- undefined\n",
       "Coordinate Operation:\n",
       "- name: unnamed\n",
       "- method: Lambert Cylindrical Equal Area\n",
       "Datum: World Geodetic System 1984\n",
       "- Ellipsoid: WGS 84\n",
       "- Prime Meridian: Greenwich"
      ]
     },
     "execution_count": 12,
     "metadata": {},
     "output_type": "execute_result"
    }
   ],
   "source": [
    "df_grid_new.crs"
   ]
  },
  {
   "cell_type": "code",
   "execution_count": 14,
   "metadata": {},
   "outputs": [],
   "source": [
    "intersect = df_glhymps.overlay(df_grid_new, how='intersection')"
   ]
  },
  {
   "cell_type": "code",
   "execution_count": 15,
   "metadata": {},
   "outputs": [
    {
     "data": {
      "text/html": [
       "<div>\n",
       "<style scoped>\n",
       "    .dataframe tbody tr th:only-of-type {\n",
       "        vertical-align: middle;\n",
       "    }\n",
       "\n",
       "    .dataframe tbody tr th {\n",
       "        vertical-align: top;\n",
       "    }\n",
       "\n",
       "    .dataframe thead th {\n",
       "        text-align: right;\n",
       "    }\n",
       "</style>\n",
       "<table border=\"1\" class=\"dataframe\">\n",
       "  <thead>\n",
       "    <tr style=\"text-align: right;\">\n",
       "      <th></th>\n",
       "      <th>logK_Ferr_</th>\n",
       "      <th>k</th>\n",
       "      <th>Ksat</th>\n",
       "      <th>intersect</th>\n",
       "      <th>SHETRAN_ID</th>\n",
       "      <th>geometry</th>\n",
       "    </tr>\n",
       "  </thead>\n",
       "  <tbody>\n",
       "    <tr>\n",
       "      <th>0</th>\n",
       "      <td>-1650</td>\n",
       "      <td>3.162278e-17</td>\n",
       "      <td>0.000003</td>\n",
       "      <td>1</td>\n",
       "      <td>0</td>\n",
       "      <td>POLYGON ((-268119.818 5227203.114, -268549.444...</td>\n",
       "    </tr>\n",
       "    <tr>\n",
       "      <th>1</th>\n",
       "      <td>-1250</td>\n",
       "      <td>3.162278e-13</td>\n",
       "      <td>0.031623</td>\n",
       "      <td>1</td>\n",
       "      <td>0</td>\n",
       "      <td>POLYGON ((-271214.004 5227020.114, -270706.505...</td>\n",
       "    </tr>\n",
       "    <tr>\n",
       "      <th>2</th>\n",
       "      <td>-1300</td>\n",
       "      <td>1.000000e-13</td>\n",
       "      <td>0.010000</td>\n",
       "      <td>1</td>\n",
       "      <td>0</td>\n",
       "      <td>POLYGON ((-270173.401 5225586.905, -270285.780...</td>\n",
       "    </tr>\n",
       "    <tr>\n",
       "      <th>3</th>\n",
       "      <td>-1250</td>\n",
       "      <td>3.162278e-13</td>\n",
       "      <td>0.031623</td>\n",
       "      <td>1</td>\n",
       "      <td>0</td>\n",
       "      <td>POLYGON ((-271585.747 5227598.327, -271504.331...</td>\n",
       "    </tr>\n",
       "    <tr>\n",
       "      <th>4</th>\n",
       "      <td>-1650</td>\n",
       "      <td>3.162278e-17</td>\n",
       "      <td>0.000003</td>\n",
       "      <td>1</td>\n",
       "      <td>0</td>\n",
       "      <td>MULTIPOLYGON (((-273426.364 5228156.302, -2731...</td>\n",
       "    </tr>\n",
       "    <tr>\n",
       "      <th>...</th>\n",
       "      <td>...</td>\n",
       "      <td>...</td>\n",
       "      <td>...</td>\n",
       "      <td>...</td>\n",
       "      <td>...</td>\n",
       "      <td>...</td>\n",
       "    </tr>\n",
       "    <tr>\n",
       "      <th>949</th>\n",
       "      <td>-1250</td>\n",
       "      <td>3.162278e-13</td>\n",
       "      <td>0.031623</td>\n",
       "      <td>0</td>\n",
       "      <td>-9999</td>\n",
       "      <td>MULTIPOLYGON (((-290756.891 5185549.009, -2906...</td>\n",
       "    </tr>\n",
       "    <tr>\n",
       "      <th>950</th>\n",
       "      <td>-1052</td>\n",
       "      <td>3.019952e-11</td>\n",
       "      <td>3.019952</td>\n",
       "      <td>0</td>\n",
       "      <td>-9999</td>\n",
       "      <td>MULTIPOLYGON (((-299190.052 5186378.922, -2989...</td>\n",
       "    </tr>\n",
       "    <tr>\n",
       "      <th>951</th>\n",
       "      <td>-1135</td>\n",
       "      <td>4.466836e-12</td>\n",
       "      <td>0.446684</td>\n",
       "      <td>0</td>\n",
       "      <td>-9999</td>\n",
       "      <td>MULTIPOLYGON (((-290616.791 5185427.666, -2907...</td>\n",
       "    </tr>\n",
       "    <tr>\n",
       "      <th>952</th>\n",
       "      <td>-1250</td>\n",
       "      <td>3.162278e-13</td>\n",
       "      <td>0.031623</td>\n",
       "      <td>1</td>\n",
       "      <td>0</td>\n",
       "      <td>MULTIPOLYGON (((-241604.291 5191173.662, -2420...</td>\n",
       "    </tr>\n",
       "    <tr>\n",
       "      <th>953</th>\n",
       "      <td>-1194</td>\n",
       "      <td>1.148154e-12</td>\n",
       "      <td>0.114815</td>\n",
       "      <td>1</td>\n",
       "      <td>0</td>\n",
       "      <td>POLYGON ((-247383.478 5191689.337, -246619.535...</td>\n",
       "    </tr>\n",
       "  </tbody>\n",
       "</table>\n",
       "<p>954 rows × 6 columns</p>\n",
       "</div>"
      ],
      "text/plain": [
       "     logK_Ferr_             k      Ksat  intersect  SHETRAN_ID  \\\n",
       "0         -1650  3.162278e-17  0.000003          1           0   \n",
       "1         -1250  3.162278e-13  0.031623          1           0   \n",
       "2         -1300  1.000000e-13  0.010000          1           0   \n",
       "3         -1250  3.162278e-13  0.031623          1           0   \n",
       "4         -1650  3.162278e-17  0.000003          1           0   \n",
       "..          ...           ...       ...        ...         ...   \n",
       "949       -1250  3.162278e-13  0.031623          0       -9999   \n",
       "950       -1052  3.019952e-11  3.019952          0       -9999   \n",
       "951       -1135  4.466836e-12  0.446684          0       -9999   \n",
       "952       -1250  3.162278e-13  0.031623          1           0   \n",
       "953       -1194  1.148154e-12  0.114815          1           0   \n",
       "\n",
       "                                              geometry  \n",
       "0    POLYGON ((-268119.818 5227203.114, -268549.444...  \n",
       "1    POLYGON ((-271214.004 5227020.114, -270706.505...  \n",
       "2    POLYGON ((-270173.401 5225586.905, -270285.780...  \n",
       "3    POLYGON ((-271585.747 5227598.327, -271504.331...  \n",
       "4    MULTIPOLYGON (((-273426.364 5228156.302, -2731...  \n",
       "..                                                 ...  \n",
       "949  MULTIPOLYGON (((-290756.891 5185549.009, -2906...  \n",
       "950  MULTIPOLYGON (((-299190.052 5186378.922, -2989...  \n",
       "951  MULTIPOLYGON (((-290616.791 5185427.666, -2907...  \n",
       "952  MULTIPOLYGON (((-241604.291 5191173.662, -2420...  \n",
       "953  POLYGON ((-247383.478 5191689.337, -246619.535...  \n",
       "\n",
       "[954 rows x 6 columns]"
      ]
     },
     "execution_count": 15,
     "metadata": {},
     "output_type": "execute_result"
    }
   ],
   "source": [
    "intersect"
   ]
  }
 ],
 "metadata": {
  "kernelspec": {
   "display_name": "geo_py",
   "language": "python",
   "name": "python3"
  },
  "language_info": {
   "codemirror_mode": {
    "name": "ipython",
    "version": 3
   },
   "file_extension": ".py",
   "mimetype": "text/x-python",
   "name": "python",
   "nbconvert_exporter": "python",
   "pygments_lexer": "ipython3",
   "version": "3.8.13"
  },
  "orig_nbformat": 4
 },
 "nbformat": 4,
 "nbformat_minor": 2
}
