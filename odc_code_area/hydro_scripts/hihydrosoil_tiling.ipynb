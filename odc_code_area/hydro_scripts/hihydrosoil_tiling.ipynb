{
 "cells": [
  {
   "attachments": {},
   "cell_type": "markdown",
   "metadata": {},
   "source": [
    "## Modifying HiHydroSoil .tif Files\n",
    "Modifying the files to create a series of tiles at three degrees"
   ]
  },
  {
   "attachments": {},
   "cell_type": "markdown",
   "metadata": {},
   "source": [
    "### Loading packages"
   ]
  },
  {
   "cell_type": "code",
   "execution_count": 3,
   "metadata": {},
   "outputs": [],
   "source": [
    "from osgeo import gdal, ogr"
   ]
  },
  {
   "attachments": {},
   "cell_type": "markdown",
   "metadata": {},
   "source": [
    "### Set paths"
   ]
  },
  {
   "cell_type": "code",
   "execution_count": 5,
   "metadata": {},
   "outputs": [],
   "source": [
    "lst_depth = ['0-5cm', '5-15cm', '15-30cm', '30-60cm', '60-100cm', '100-200cm', '200-2000cm']\n",
    "\n",
    "output_directory = f'/home/geofelpave/Documents/6_Test_Area/data/New_Soil_Properties/Ksat_{lst_depth[5]}/'\n",
    "input_raster = f'/home/geofelpave/Documents/6_Test_Area/data/Soil_Properties/Ksat/Ksat_{lst_depth[5]}_M_250m.tif'\n",
    "input_vector = f'/home/geofelpave/Documents/6_Test_Area/data/Misc/fishnet_hihydrosoil_land.shp'\n",
    "file_prefix = f'Ksat_{lst_depth[5]}_M_250m_'"
   ]
  },
  {
   "attachments": {},
   "cell_type": "markdown",
   "metadata": {},
   "source": [
    "### Working with the files to create the tiles"
   ]
  },
  {
   "cell_type": "code",
   "execution_count": 6,
   "metadata": {},
   "outputs": [
    {
     "name": "stdout",
     "output_type": "stream",
     "text": [
      "All done go and check /home/geofelpave/Documents/6_Test_Area/data/New_Soil_Properties/logKferr_200-2000cm/\n"
     ]
    }
   ],
   "source": [
    "\n",
    "#Read shapefile in gdal\n",
    "ds_vector = gdal.OpenEx(input_vector)\n",
    "# Load shapefile to be able to read attributes\n",
    "layer = ds_vector.GetLayer()\n",
    "\n",
    "# Create list of grid_ref values\n",
    "grid_lst = []\n",
    "list_field = ['grid_ref']\n",
    "for feature in layer:\n",
    "    values_list = [feature.GetField(j) for j in list_field]\n",
    "    grid_lst.append(values_list[0])\n",
    "\n",
    "# #Use the list of grid to loop and clip raster\n",
    "# file_prefix = 'N_5-15cm_M_250m_'\n",
    "# # grid_lst = ['76E5N', '76E2N']\n",
    "\n",
    "# Loop and with cutlineSQL select the grid to clip the raster\n",
    "for i, grid_ref in enumerate(grid_lst):\n",
    "\n",
    "    result= gdal.Warp(\n",
    "        output_directory + file_prefix + f\"{grid_ref}.tif\",\n",
    "        input_raster,\n",
    "        cutlineDSName=input_vector,\n",
    "        format = 'GTiff',\n",
    "        srcNodata = -9999,\n",
    "        dstNodata=-9999,\n",
    "        cutlineSQL=f\"SELECT * FROM fishnet_hihydrosoil_land WHERE grid_ref = '{grid_ref}'\",\n",
    "        cutlineLayer=\"cutline\",\n",
    "        cropToCutline=True,\n",
    "        warpOptions=[\"CUTLINE_ALL_TOUCHED=True\"], # this makes sure the clip is to the border of the each grid\n",
    "    )\n",
    "\n",
    "    \n",
    "print(f'All done go and check {output_directory}')"
   ]
  }
 ],
 "metadata": {
  "kernelspec": {
   "display_name": "geo_py_kernel",
   "language": "python",
   "name": "geo_py"
  },
  "language_info": {
   "codemirror_mode": {
    "name": "ipython",
    "version": 3
   },
   "file_extension": ".py",
   "mimetype": "text/x-python",
   "name": "python",
   "nbconvert_exporter": "python",
   "pygments_lexer": "ipython3",
   "version": "3.8.13"
  },
  "orig_nbformat": 4
 },
 "nbformat": 4,
 "nbformat_minor": 2
}
