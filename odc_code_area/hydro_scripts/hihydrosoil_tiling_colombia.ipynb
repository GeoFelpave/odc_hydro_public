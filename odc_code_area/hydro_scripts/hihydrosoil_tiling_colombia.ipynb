{
 "cells": [
  {
   "attachments": {},
   "cell_type": "markdown",
   "metadata": {},
   "source": [
    "## Hihydrosoil Colombia\n",
    "Looking at hihydrosoil data and only select the data for Colombia"
   ]
  },
  {
   "attachments": {},
   "cell_type": "markdown",
   "metadata": {},
   "source": [
    "### Loading packages"
   ]
  },
  {
   "cell_type": "code",
   "execution_count": 2,
   "metadata": {},
   "outputs": [],
   "source": [
    "from pathlib import Path\n",
    "import shutil"
   ]
  },
  {
   "attachments": {},
   "cell_type": "markdown",
   "metadata": {},
   "source": [
    "### Set the folders"
   ]
  },
  {
   "cell_type": "code",
   "execution_count": 3,
   "metadata": {},
   "outputs": [],
   "source": [
    "fldr_data = Path('/home/geofelpave/Documents/6_Test_Area/data/New_Soil_Properties/')\n",
    "fldr_final = Path(fldr_data / 'colombia')\n",
    "\n",
    "# List of colombia tiles:\n",
    "col_lst = ['70E11N', '70E2N', '70E1S', '70E8N', '70E5N', \n",
    "           '70E4S', '70E7S', '67E2N', '67E1S', '67E8N', \n",
    "           '67E5N', '67E4S', '67E7S', '67E11N', '76E4S', \n",
    "           '76E7S', '76E11N', '76E2N', '76E1S', '76E8N', \n",
    "           '76E5N', '73E11N', '73E2N', '73E1S', '73E8N', \n",
    "           '73E5N', '73E4S', '73E7S', '82E4S', '82E7S', \n",
    "           '82E1S', '79E2N', '79E1S', '79E4S', '79E7S']"
   ]
  },
  {
   "attachments": {},
   "cell_type": "markdown",
   "metadata": {},
   "source": [
    "### Working with the files"
   ]
  },
  {
   "cell_type": "code",
   "execution_count": 4,
   "metadata": {},
   "outputs": [
    {
     "name": "stdout",
     "output_type": "stream",
     "text": [
      "working with folder: /home/geofelpave/Documents/6_Test_Area/data/New_Soil_Properties/Ksat_0-5cm\n",
      "working with folder: /home/geofelpave/Documents/6_Test_Area/data/New_Soil_Properties/Ksat_5-15cm\n",
      "working with folder: /home/geofelpave/Documents/6_Test_Area/data/New_Soil_Properties/Ksat_15-30cm\n",
      "working with folder: /home/geofelpave/Documents/6_Test_Area/data/New_Soil_Properties/Ksat_30-60cm\n",
      "working with folder: /home/geofelpave/Documents/6_Test_Area/data/New_Soil_Properties/Ksat_60-100cm\n",
      "working with folder: /home/geofelpave/Documents/6_Test_Area/data/New_Soil_Properties/Ksat_100-200cm\n"
     ]
    }
   ],
   "source": [
    "# 1. List folder in main path\n",
    "subdirectories = [x for x in fldr_data.iterdir() if x.is_dir()]\n",
    "# subdirectories = [Path('/home/geofelpave/Documents/6_Test_Area/data/New_Soil_Properties/Ksat_0-5cm'),\n",
    "#                   Path('/home/geofelpave/Documents/6_Test_Area/data/New_Soil_Properties/Ksat_5-15cm'),\n",
    "#                   Path('/home/geofelpave/Documents/6_Test_Area/data/New_Soil_Properties/Ksat_15-30cm'),\n",
    "#                   Path('/home/geofelpave/Documents/6_Test_Area/data/New_Soil_Properties/Ksat_30-60cm'),\n",
    "#                   Path('/home/geofelpave/Documents/6_Test_Area/data/New_Soil_Properties/Ksat_60-100cm'),\n",
    "#                   Path('/home/geofelpave/Documents/6_Test_Area/data/New_Soil_Properties/Ksat_100-200cm')\n",
    "#                   ]\n",
    "\n",
    "# 2. Working with data in the diferent directories\n",
    "for fldr in subdirectories:\n",
    "    print(f'working with folder: {fldr}')\n",
    "    \n",
    "    # create folder in the final location if it does not exists\n",
    "    col_fldr = Path(fldr_final / fldr.name)\n",
    "    col_fldr.mkdir(parents=True, exist_ok=True)\n",
    "    \n",
    "    \n",
    "    # list of files in folder\n",
    "    fls_lst = fldr.rglob('*.tif')\n",
    "    \n",
    "    # loop to file list to get only the colombia files\n",
    "    for fls in fls_lst:\n",
    "        \n",
    "        # get filename without extension\n",
    "        filename = fls.stem\n",
    "       \n",
    "        # check if the file name is a colombia file\n",
    "        if filename.split('_')[4] in col_lst:\n",
    "            # copy file to new location\n",
    "            shutil.copy(fls, Path(col_fldr / filename)) \n",
    "\n",
    "    "
   ]
  }
 ],
 "metadata": {
  "kernelspec": {
   "display_name": "geo_py_kernel",
   "language": "python",
   "name": "geo_py"
  },
  "language_info": {
   "codemirror_mode": {
    "name": "ipython",
    "version": 3
   },
   "file_extension": ".py",
   "mimetype": "text/x-python",
   "name": "python",
   "nbconvert_exporter": "python",
   "pygments_lexer": "ipython3",
   "version": "3.8.13"
  },
  "orig_nbformat": 4
 },
 "nbformat": 4,
 "nbformat_minor": 2
}
